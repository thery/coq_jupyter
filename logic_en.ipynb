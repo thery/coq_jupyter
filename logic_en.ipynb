{
 "cells": [
  {
   "cell_type": "markdown",
   "metadata": {
    "coq_kernel_metadata": {
     "auto_roll_back": true
    }
   },
   "source": [
    " # Tactics for basic logic  (<thery@sophia.inria.fr>)  \n"
   ]
  },
  {
   "cell_type": "markdown",
   "metadata": {
    "coq_kernel_metadata": {
     "auto_roll_back": true
    }
   },
   "source": [
    "\n",
    "| Operator      |   Conclusion               | Hypothesis     |\n",
    "|:-------------:|:-------------------------- |:-------------- |\n",
    "|               | ```exact H.```             |                |\n",
    "| ```->```      | ```intro H.```             | ```apply H.``` |\n",
    "| ```/\\```      | ```split.```               | ```case H.```  |\n",
    "| ```\\/```      | ```left.``` / ```right.``` | ```case H.```  |\n",
    "| ```forall```  | ```intro A.```             | ```apply H.``` |\n",
    "| ```exists```  | ```exists v.```            | ```case H.```  |\n",
    "| ```~```       | ```intro H.```             | ```case H.```  |\n"
   ]
  },
  {
   "cell_type": "markdown",
   "metadata": {
    "coq_kernel_metadata": {
     "auto_roll_back": true
    }
   },
   "source": [
    "## Fill in the following exercises using the tactics associated to the different operators."
   ]
  },
  {
   "cell_type": "markdown",
   "metadata": {
    "coq_kernel_metadata": {
     "auto_roll_back": true
    }
   },
   "source": [
    "##  Introducing variables and hypothesis (intro)"
   ]
  },
  {
   "cell_type": "code",
   "execution_count": null,
   "metadata": {
    "coq_kernel_metadata": {
     "auto_roll_back": true,
     "cell_id": "06b58f666a8147dc92ad48ec2663a9a3",
     "execution_id": "da492ef3eca04d1e8dc1686434b912da"
    }
   },
   "outputs": [],
   "source": [
    "Theorem refl : forall A : Prop, A -> A."
   ]
  },
  {
   "cell_type": "code",
   "execution_count": null,
   "metadata": {
    "coq_kernel_metadata": {
     "auto_roll_back": true,
     "cell_id": "788f3dde771242de886c1f012754aacf",
     "execution_id": "3474e3a992484b509ba90624b90bfcb6"
    }
   },
   "outputs": [],
   "source": [
    "Proof."
   ]
  },
  {
   "cell_type": "code",
   "execution_count": null,
   "metadata": {
    "coq_kernel_metadata": {
     "auto_roll_back": true
    }
   },
   "outputs": [],
   "source": []
  },
  {
   "cell_type": "code",
   "execution_count": null,
   "metadata": {
    "coq_kernel_metadata": {
     "auto_roll_back": true,
     "cell_id": "bb8936dc5808461e886a8d193b0c43ff",
     "execution_id": "45c8517924bd4bb996297edb57eae2ca"
    }
   },
   "outputs": [],
   "source": [
    "Qed."
   ]
  },
  {
   "cell_type": "markdown",
   "metadata": {
    "coq_kernel_metadata": {
     "auto_roll_back": true
    }
   },
   "source": [
    "## Conjunction:  decomposition (split) and usage (case)"
   ]
  },
  {
   "cell_type": "code",
   "execution_count": null,
   "metadata": {
    "coq_kernel_metadata": {
     "auto_roll_back": true,
     "cell_id": "f6c0634f393b45e7834b39110294d720",
     "execution_id": "3b0c579b40cc4a6989d0d183a16bee1e"
    }
   },
   "outputs": [],
   "source": [
    "Theorem and_commutative: forall (A  B : Prop), A /\\ B -> B /\\ A."
   ]
  },
  {
   "cell_type": "code",
   "execution_count": null,
   "metadata": {
    "coq_kernel_metadata": {
     "auto_roll_back": true,
     "cell_id": "9baecf926ead42a38aa74c99c959d64c",
     "execution_id": "c692cf42935f4d79b7d24114ad234447"
    }
   },
   "outputs": [],
   "source": [
    "Proof."
   ]
  },
  {
   "cell_type": "code",
   "execution_count": null,
   "metadata": {
    "coq_kernel_metadata": {
     "auto_roll_back": true
    }
   },
   "outputs": [],
   "source": []
  },
  {
   "cell_type": "code",
   "execution_count": null,
   "metadata": {
    "coq_kernel_metadata": {
     "auto_roll_back": true,
     "cell_id": "d900c073f32e469e89f17b87b81e323a",
     "execution_id": "3541d29dd75e4f5fa20c49ee9c9d788e"
    }
   },
   "outputs": [],
   "source": [
    "Qed."
   ]
  },
  {
   "cell_type": "markdown",
   "metadata": {
    "coq_kernel_metadata": {
     "auto_roll_back": true,
     "cell_id": "437a4c88f46746a980b28a9cdca4d55a",
     "execution_id": "0d00e6c2a5554aa6aa74d979b7b527b1"
    }
   },
   "source": [
    " ## Disjunction: decomposition (right & left) and usage (case)"
   ]
  },
  {
   "cell_type": "code",
   "execution_count": null,
   "metadata": {
    "coq_kernel_metadata": {
     "auto_roll_back": true,
     "cell_id": "1ae8862227884121a9381171506bb62c",
     "execution_id": "2b8e40f2bf0640c289b1bbd36967e2bf"
    }
   },
   "outputs": [],
   "source": [
    "Theorem or_commutative: forall (A  B:Prop), A \\/ B -> B \\/ A."
   ]
  },
  {
   "cell_type": "code",
   "execution_count": null,
   "metadata": {
    "coq_kernel_metadata": {
     "auto_roll_back": true,
     "cell_id": "c81f0453f4b7459caf2789eda86f1871",
     "execution_id": "7ae6758391a14bfc86b50293af17435f"
    }
   },
   "outputs": [],
   "source": [
    "Proof."
   ]
  },
  {
   "cell_type": "code",
   "execution_count": null,
   "metadata": {
    "coq_kernel_metadata": {
     "auto_roll_back": true
    }
   },
   "outputs": [],
   "source": []
  },
  {
   "cell_type": "code",
   "execution_count": null,
   "metadata": {
    "coq_kernel_metadata": {
     "auto_roll_back": true,
     "cell_id": "17fc54d9d5a64c3f9cacedf5e487182c",
     "execution_id": "22955af28cae48e1b98250a672da8e0e"
    }
   },
   "outputs": [],
   "source": [
    "Qed."
   ]
  },
  {
   "cell_type": "markdown",
   "metadata": {
    "coq_kernel_metadata": {
     "auto_roll_back": true
    }
   },
   "source": [
    "## Implication decomposition (intro) and usage (apply)"
   ]
  },
  {
   "cell_type": "code",
   "execution_count": null,
   "metadata": {
    "coq_kernel_metadata": {
     "auto_roll_back": true,
     "cell_id": "70fd361c27b6493f99b238e228fb0118",
     "execution_id": "6561254e50f74388be065e6866547449"
    }
   },
   "outputs": [],
   "source": [
    "Theorem mp: forall (A B : Prop), A -> (A -> B) -> B."
   ]
  },
  {
   "cell_type": "code",
   "execution_count": null,
   "metadata": {
    "coq_kernel_metadata": {
     "auto_roll_back": true,
     "cell_id": "6d0022d4065347c0a79b69ff257ec03d",
     "execution_id": "e5afb7289bd047e3abfcefa5ee2a6d56"
    }
   },
   "outputs": [],
   "source": [
    "Proof."
   ]
  },
  {
   "cell_type": "code",
   "execution_count": null,
   "metadata": {
    "coq_kernel_metadata": {
     "auto_roll_back": true
    }
   },
   "outputs": [],
   "source": []
  },
  {
   "cell_type": "code",
   "execution_count": null,
   "metadata": {
    "coq_kernel_metadata": {
     "auto_roll_back": true,
     "cell_id": "2c7fca7f5b1e44ecb97dca95d879e665",
     "execution_id": "edba831e6f8d4e12b625aebe0e617e0b"
    }
   },
   "outputs": [],
   "source": [
    "Qed."
   ]
  },
  {
   "cell_type": "markdown",
   "metadata": {
    "coq_kernel_metadata": {
     "auto_roll_back": true
    }
   },
   "source": [
    "## Implication slightly more difficult"
   ]
  },
  {
   "cell_type": "code",
   "execution_count": null,
   "metadata": {
    "coq_kernel_metadata": {
     "auto_roll_back": true,
     "cell_id": "ad079aee76fc447782f7ff6fd5c41bc0",
     "execution_id": "5271fc9ff71242728437264ad2e321de"
    }
   },
   "outputs": [],
   "source": [
    "Theorem S: forall (A B C : Prop), (A -> B -> C) -> (A -> B) -> A -> C.\n"
   ]
  },
  {
   "cell_type": "code",
   "execution_count": null,
   "metadata": {
    "coq_kernel_metadata": {
     "auto_roll_back": true,
     "cell_id": "a7397046af93435288b42cf452e914f9",
     "execution_id": "e4a980dcbcf74e448535b98661669f5c"
    }
   },
   "outputs": [],
   "source": [
    "Proof."
   ]
  },
  {
   "cell_type": "code",
   "execution_count": null,
   "metadata": {
    "coq_kernel_metadata": {
     "auto_roll_back": true
    }
   },
   "outputs": [],
   "source": []
  },
  {
   "cell_type": "code",
   "execution_count": null,
   "metadata": {
    "coq_kernel_metadata": {
     "auto_roll_back": true,
     "cell_id": "9f97192fcdba4d6697de930df0845249",
     "execution_id": "2cdd0d087b764b36b65dfd42bdb906a3"
    }
   },
   "outputs": [],
   "source": [
    "Qed."
   ]
  },
  {
   "cell_type": "markdown",
   "metadata": {
    "coq_kernel_metadata": {
     "auto_roll_back": true
    }
   },
   "source": [
    "## Implication and conjunction"
   ]
  },
  {
   "cell_type": "code",
   "execution_count": null,
   "metadata": {
    "coq_kernel_metadata": {
     "auto_roll_back": true,
     "cell_id": "a6762a4dc5bb4b8b82397f4ceb7916cb",
     "execution_id": "d7e6ea9db90f487e8878ce3a266ad851"
    }
   },
   "outputs": [],
   "source": [
    "Theorem Praeclarum: \n",
    "  forall (A B C D : Prop), (A -> B) /\\ (C -> D) -> A /\\ C -> B /\\ D."
   ]
  },
  {
   "cell_type": "code",
   "execution_count": null,
   "metadata": {
    "coq_kernel_metadata": {
     "auto_roll_back": true,
     "cell_id": "5fb12254d8b847b88a9313d64a561fb8",
     "execution_id": "3bc8d3316ce8476f963961ea1cf3b6be"
    }
   },
   "outputs": [],
   "source": [
    "Proof."
   ]
  },
  {
   "cell_type": "code",
   "execution_count": null,
   "metadata": {
    "coq_kernel_metadata": {
     "auto_roll_back": true
    }
   },
   "outputs": [],
   "source": []
  },
  {
   "cell_type": "code",
   "execution_count": null,
   "metadata": {
    "coq_kernel_metadata": {
     "auto_roll_back": true,
     "cell_id": "55df163e643342ff81147af9b74f6fdf",
     "execution_id": "520789a1fe0c43b98e823eee734e85f6"
    }
   },
   "outputs": [],
   "source": [
    "Qed."
   ]
  },
  {
   "cell_type": "markdown",
   "metadata": {
    "coq_kernel_metadata": {
     "auto_roll_back": true
    }
   },
   "source": [
    "## Implication and quantification"
   ]
  },
  {
   "cell_type": "code",
   "execution_count": null,
   "metadata": {
    "coq_kernel_metadata": {
     "auto_roll_back": true,
     "cell_id": "06e827cd74374b40bd91a967789b9d3a",
     "execution_id": "39b40cd8ce2b4f408627068836bbb4c9"
    }
   },
   "outputs": [],
   "source": [
    "Theorem resolution:\n",
    "  forall (p q : Type -> Prop) (a : Type),\n",
    "     (p a) -> (forall (x : Type), (p x) -> (q x)) -> (q a)."
   ]
  },
  {
   "cell_type": "code",
   "execution_count": null,
   "metadata": {
    "coq_kernel_metadata": {
     "auto_roll_back": true,
     "cell_id": "8836ef32344d48ae8b292fd27f18f69e",
     "execution_id": "09c623f0f12941c885ad864ff47b86f6"
    }
   },
   "outputs": [],
   "source": [
    "Proof."
   ]
  },
  {
   "cell_type": "code",
   "execution_count": null,
   "metadata": {
    "coq_kernel_metadata": {
     "auto_roll_back": true
    }
   },
   "outputs": [],
   "source": []
  },
  {
   "cell_type": "code",
   "execution_count": null,
   "metadata": {
    "coq_kernel_metadata": {
     "auto_roll_back": true,
     "cell_id": "b0044fa34d3a461c80c0c2c0cb6b0f99",
     "execution_id": "2f504a0850444a11848f6af4a81d13ee"
    }
   },
   "outputs": [],
   "source": [
    "Qed."
   ]
  },
  {
   "cell_type": "markdown",
   "metadata": {
    "coq_kernel_metadata": {
     "auto_roll_back": true
    }
   },
   "source": [
    "## Existential: decomposition (exists) usage (case)\n"
   ]
  },
  {
   "cell_type": "code",
   "execution_count": null,
   "metadata": {
    "coq_kernel_metadata": {
     "auto_roll_back": true,
     "cell_id": "f96d8103e1594cd385516c6a18879ace",
     "execution_id": "ca85f46c0a3a451fb7752bcb5302d202"
    }
   },
   "outputs": [],
   "source": [
    "Theorem Simple:\n",
    "  forall (A : Set) (R : A -> A -> Prop),\n",
    "  (forall (x y z : A), (R x y) /\\ (R y z) -> (R x z)) ->\n",
    "  (forall (x y : A), (R x y) -> (R y x)) ->\n",
    "  forall (x : A), (exists (y:A), (R x y)) -> (R x x)."
   ]
  },
  {
   "cell_type": "code",
   "execution_count": null,
   "metadata": {
    "coq_kernel_metadata": {
     "auto_roll_back": true,
     "cell_id": "c85d556eedfb4635805fa051c228baec",
     "execution_id": "44443c75da26434ca436daafcc50ba41"
    }
   },
   "outputs": [],
   "source": [
    "Proof."
   ]
  },
  {
   "cell_type": "code",
   "execution_count": null,
   "metadata": {
    "coq_kernel_metadata": {
     "auto_roll_back": true
    }
   },
   "outputs": [],
   "source": []
  },
  {
   "cell_type": "code",
   "execution_count": null,
   "metadata": {
    "coq_kernel_metadata": {
     "auto_roll_back": true,
     "cell_id": "50aac89930144e6d9b0dcff5e2f00573",
     "execution_id": "2e1cea0e602f4b68b5176d414a9c7ac3"
    }
   },
   "outputs": [],
   "source": [
    "Qed."
   ]
  },
  {
   "cell_type": "markdown",
   "metadata": {
    "coq_kernel_metadata": {
     "auto_roll_back": true,
     "cell_id": "7c01a480d1b545eb817f8025aa48a075",
     "execution_id": "f4bd6aa40b624a05986f13af6e9f3af1"
    }
   },
   "source": [
    "## Negation: decomposition (intro) and usage (case) \n"
   ]
  },
  {
   "cell_type": "code",
   "execution_count": null,
   "metadata": {
    "coq_kernel_metadata": {
     "auto_roll_back": true,
     "cell_id": "dc034d70dd0f4eac9bcebd9603da7098",
     "evaluated": true,
     "execution_id": "a977653cdcff43a1a36049299fafa4de",
     "rolled_back": false
    }
   },
   "outputs": [],
   "source": [
    "Theorem not_not: forall (A : Prop), A -> ~ (~ A)."
   ]
  },
  {
   "cell_type": "code",
   "execution_count": null,
   "metadata": {
    "coq_kernel_metadata": {
     "auto_roll_back": true,
     "cell_id": "6fc4c6d9c9b54407ac9c27c8cc1887b4",
     "execution_id": "1880bfb544e844a986e3088121054959"
    }
   },
   "outputs": [],
   "source": [
    "Proof."
   ]
  },
  {
   "cell_type": "code",
   "execution_count": null,
   "metadata": {
    "coq_kernel_metadata": {
     "auto_roll_back": true
    }
   },
   "outputs": [],
   "source": []
  },
  {
   "cell_type": "code",
   "execution_count": null,
   "metadata": {
    "coq_kernel_metadata": {
     "auto_roll_back": true,
     "cell_id": "65c0c9860a664d229a4d314b4a5a00b9",
     "execution_id": "562c7648ad4c415d8fc291d8e8c6f972"
    }
   },
   "outputs": [],
   "source": [
    "Qed."
   ]
  },
  {
   "cell_type": "markdown",
   "metadata": {
    "coq_kernel_metadata": {
     "auto_roll_back": true
    }
   },
   "source": [
    "## Difficult !! "
   ]
  },
  {
   "cell_type": "code",
   "execution_count": null,
   "metadata": {
    "coq_kernel_metadata": {
     "auto_roll_back": true,
     "cell_id": "35f1feb94f344778842ab6d379d8089d",
     "execution_id": "c8cef780faa342e1ab50f5f65beaf7fe"
    }
   },
   "outputs": [],
   "source": [
    "Theorem not_quite_classic: forall (A : Prop), ~ (~ (A \\/ ~ A))."
   ]
  },
  {
   "cell_type": "code",
   "execution_count": null,
   "metadata": {
    "coq_kernel_metadata": {
     "auto_roll_back": true,
     "cell_id": "f514d56cd43f487d856a9ef0f9411873",
     "execution_id": "4c5af94a03094044bab7caa78b14dca8"
    }
   },
   "outputs": [],
   "source": [
    "Proof."
   ]
  },
  {
   "cell_type": "code",
   "execution_count": null,
   "metadata": {
    "coq_kernel_metadata": {
     "auto_roll_back": true
    }
   },
   "outputs": [],
   "source": []
  },
  {
   "cell_type": "code",
   "execution_count": null,
   "metadata": {
    "coq_kernel_metadata": {
     "auto_roll_back": true,
     "cell_id": "f2b252f1ddfc4af381bc60f71360a589",
     "execution_id": "b75ffb63287e4ec89271db2ac016643c"
    }
   },
   "outputs": [],
   "source": [
    "Qed."
   ]
  },
  {
   "cell_type": "markdown",
   "metadata": {
    "coq_kernel_metadata": {
     "auto_roll_back": true
    }
   },
   "source": [
    "##  Adding excluded middle"
   ]
  },
  {
   "cell_type": "code",
   "execution_count": null,
   "metadata": {
    "coq_kernel_metadata": {
     "auto_roll_back": true,
     "cell_id": "32149b1a7b4d4529a0a32913d1fcac7a",
     "execution_id": "11ceb15b26f547ae8e0f96fd7bc60834"
    }
   },
   "outputs": [],
   "source": [
    "Require Import Classical."
   ]
  },
  {
   "cell_type": "code",
   "execution_count": null,
   "metadata": {
    "coq_kernel_metadata": {
     "auto_roll_back": true,
     "cell_id": "ca626beedea646528fe6323ece85f4e6",
     "execution_id": "f6d536fd88fb44c18a66bee62eb601d7"
    }
   },
   "outputs": [],
   "source": [
    "Check classic."
   ]
  },
  {
   "cell_type": "code",
   "execution_count": null,
   "metadata": {
    "coq_kernel_metadata": {
     "auto_roll_back": true,
     "cell_id": "5283fd7d819b452388072725ca67e74d",
     "execution_id": "1f66244f13f0442ca71b230281dd4d3b"
    }
   },
   "outputs": [],
   "source": [
    "Theorem not_not_converse: forall (A : Prop), ~ (~ A) -> A."
   ]
  },
  {
   "cell_type": "code",
   "execution_count": null,
   "metadata": {
    "coq_kernel_metadata": {
     "auto_roll_back": true,
     "cell_id": "e7774eb1c140417d8f422334342ed099",
     "execution_id": "fb6fee1041cb497fbf0bc0b4c0a720c8"
    }
   },
   "outputs": [],
   "source": [
    "Proof."
   ]
  },
  {
   "cell_type": "code",
   "execution_count": null,
   "metadata": {
    "coq_kernel_metadata": {
     "auto_roll_back": true
    }
   },
   "outputs": [],
   "source": []
  },
  {
   "cell_type": "code",
   "execution_count": null,
   "metadata": {
    "coq_kernel_metadata": {
     "auto_roll_back": true,
     "cell_id": "3fcbae19dc394a9c813981e0f26e5a6b",
     "execution_id": "e0c37120b5734e2f810332dcb6e57dcb"
    }
   },
   "outputs": [],
   "source": [
    "Qed."
   ]
  }
 ],
 "metadata": {
  "kernelspec": {
   "display_name": "Coq",
   "language": "coq",
   "name": "coq"
  },
  "language_info": {
   "file_extension": ".v",
   "mimetype": "text/x-coq",
   "name": "coq",
   "version": "8.11.0"
  }
 },
 "nbformat": 4,
 "nbformat_minor": 4
}
