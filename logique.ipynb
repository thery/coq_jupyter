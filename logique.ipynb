{
 "cells": [
  {
   "cell_type": "markdown",
   "metadata": {
    "coq_kernel_metadata": {
     "auto_roll_back": true
    }
   },
   "source": [
    " # Tactiques pour la logique   \n"
   ]
  },
  {
   "cell_type": "markdown",
   "metadata": {
    "coq_kernel_metadata": {
     "auto_roll_back": true
    }
   },
   "source": [
    "\n",
    "| Opérateur     |   Conclusion               | Hypothèse      |\n",
    "|:-------------:|:-------------------------- |:-------------- |\n",
    "|               | ```exact H.```             |                |\n",
    "| ```->```      | ```intro H.```             | ```apply H.``` |\n",
    "| ```/\\```      | ```split.```               | ```case H.```  |\n",
    "| ```\\/```      | ```left.``` / ```right.``` | ```case H.```  |\n",
    "| ```forall```  | ```intro A.```             | ```apply H.``` |\n",
    "| ```exists```  | ```exists v.```            | ```case H.```  |\n",
    "| ```~```       | ```intro H.```             | ```case H.```  |\n"
   ]
  },
  {
   "cell_type": "markdown",
   "metadata": {
    "coq_kernel_metadata": {
     "auto_roll_back": true
    }
   },
   "source": [
    "## Compléter les exercices suivants en utilisant les tactiques associées aux différents opérateurs logiques."
   ]
  },
  {
   "cell_type": "markdown",
   "metadata": {
    "coq_kernel_metadata": {
     "auto_roll_back": true
    }
   },
   "source": [
    "##  Introduction des variables et des hypothèses (intro)"
   ]
  },
  {
   "cell_type": "code",
   "execution_count": null,
   "metadata": {
    "coq_kernel_metadata": {
     "auto_roll_back": true,
     "cell_id": "ce3a3fe863cd4b4896b02b9c923085b9",
     "evaluated": true,
     "execution_id": "6d00e49957f744b981f6cf96d7023e62",
     "rolled_back": false
    }
   },
   "outputs": [],
   "source": [
    "Theorem refl : forall A : Prop, A -> A."
   ]
  },
  {
   "cell_type": "code",
   "execution_count": null,
   "metadata": {
    "coq_kernel_metadata": {
     "auto_roll_back": true,
     "cell_id": "b903bb9af9cb4afe9ab0343fcbc048d8",
     "evaluated": true,
     "execution_id": "e7818f6442394408915e24dde3489b43",
     "rolled_back": false
    }
   },
   "outputs": [],
   "source": [
    "Proof."
   ]
  },
  {
   "cell_type": "code",
   "execution_count": null,
   "metadata": {
    "coq_kernel_metadata": {
     "auto_roll_back": true
    }
   },
   "outputs": [],
   "source": []
  },
  {
   "cell_type": "code",
   "execution_count": null,
   "metadata": {
    "coq_kernel_metadata": {
     "auto_roll_back": true,
     "cell_id": "2cd9a901d4d04c239a1bb8299c4a0f01",
     "evaluated": false,
     "execution_id": "59562c250c144a879bcb4072ba4c60db",
     "rolled_back": false
    }
   },
   "outputs": [],
   "source": [
    "Qed."
   ]
  },
  {
   "cell_type": "markdown",
   "metadata": {
    "coq_kernel_metadata": {
     "auto_roll_back": true
    }
   },
   "source": [
    "## Conjonction: décomposition (split) et utilisation (case)"
   ]
  },
  {
   "cell_type": "code",
   "execution_count": null,
   "metadata": {
    "coq_kernel_metadata": {
     "auto_roll_back": true,
     "cell_id": "55f7b5693b394bb0ba1f58a0065ce066",
     "evaluated": false,
     "execution_id": "ae1036591f42461c98ddb6b462a26b40",
     "rolled_back": false
    }
   },
   "outputs": [],
   "source": [
    "Theorem and_commutative: forall (A  B : Prop), A /\\ B -> B /\\ A."
   ]
  },
  {
   "cell_type": "code",
   "execution_count": null,
   "metadata": {
    "coq_kernel_metadata": {
     "auto_roll_back": true,
     "cell_id": "1281c7ea31ed4e9da7d30d4ffe714e19",
     "evaluated": true,
     "execution_id": "ca386403e483411ca5dfcc5cb1f56abd",
     "rolled_back": false
    }
   },
   "outputs": [],
   "source": [
    "Proof."
   ]
  },
  {
   "cell_type": "code",
   "execution_count": null,
   "metadata": {
    "coq_kernel_metadata": {
     "auto_roll_back": true
    }
   },
   "outputs": [],
   "source": []
  },
  {
   "cell_type": "code",
   "execution_count": null,
   "metadata": {
    "coq_kernel_metadata": {
     "auto_roll_back": true,
     "cell_id": "9884c07b234940e487e88f70f5be403e",
     "evaluated": false,
     "execution_id": "3a4a1e47fae7420992ef8524ac63a6ef",
     "rolled_back": false
    }
   },
   "outputs": [],
   "source": [
    "Qed."
   ]
  },
  {
   "cell_type": "markdown",
   "metadata": {
    "coq_kernel_metadata": {
     "auto_roll_back": true,
     "cell_id": "fdf8b081e035454eab98c0cd84a99a6c",
     "evaluated": false,
     "execution_id": "0d00e6c2a5554aa6aa74d979b7b527b1",
     "rolled_back": false
    }
   },
   "source": [
    " ## Disjonction: décomposition (right & left) et utilisation (case)"
   ]
  },
  {
   "cell_type": "code",
   "execution_count": null,
   "metadata": {
    "coq_kernel_metadata": {
     "auto_roll_back": true,
     "cell_id": "79fff123c1284c4c81070ab212c4efa1",
     "evaluated": false,
     "execution_id": "5b6718898e534093bfd9304c627c7bc5",
     "rolled_back": false
    }
   },
   "outputs": [],
   "source": [
    "Theorem or_commutative: forall (A  B:Prop), A \\/ B -> B \\/ A."
   ]
  },
  {
   "cell_type": "code",
   "execution_count": null,
   "metadata": {
    "coq_kernel_metadata": {
     "auto_roll_back": true,
     "cell_id": "fff0a06ae7f341368be1e19db50c104a",
     "evaluated": true,
     "execution_id": "5661b09e2c4c4806b9cf0a7bd192e7de",
     "rolled_back": false
    }
   },
   "outputs": [],
   "source": [
    "Proof."
   ]
  },
  {
   "cell_type": "code",
   "execution_count": null,
   "metadata": {
    "coq_kernel_metadata": {
     "auto_roll_back": true
    }
   },
   "outputs": [],
   "source": []
  },
  {
   "cell_type": "code",
   "execution_count": null,
   "metadata": {
    "coq_kernel_metadata": {
     "auto_roll_back": true,
     "cell_id": "468255ac36934e9f956bf1d5dd1e36e0",
     "evaluated": false,
     "execution_id": "69d44f08f9e64a5e8384ba9cd43dfc12",
     "rolled_back": false
    }
   },
   "outputs": [],
   "source": [
    "Qed."
   ]
  },
  {
   "cell_type": "markdown",
   "metadata": {
    "coq_kernel_metadata": {
     "auto_roll_back": true
    }
   },
   "source": [
    "## Implication décomposition (intro) et utilisation (apply)"
   ]
  },
  {
   "cell_type": "code",
   "execution_count": null,
   "metadata": {
    "coq_kernel_metadata": {
     "auto_roll_back": true,
     "cell_id": "0dcd3e8173634b599d3563205fb2d54d",
     "evaluated": false,
     "execution_id": "e5144bc03da3483682ee8f00065d8891",
     "rolled_back": false
    }
   },
   "outputs": [],
   "source": [
    "Theorem mp: forall (A B : Prop), A -> (A -> B) -> B."
   ]
  },
  {
   "cell_type": "code",
   "execution_count": null,
   "metadata": {
    "coq_kernel_metadata": {
     "auto_roll_back": true,
     "cell_id": "2c9cf4c1037c48348c39450a3b0c18d3",
     "evaluated": true,
     "execution_id": "d16f8a002e4c443384350dc381c927d0",
     "rolled_back": false
    }
   },
   "outputs": [],
   "source": [
    "Proof."
   ]
  },
  {
   "cell_type": "code",
   "execution_count": null,
   "metadata": {
    "coq_kernel_metadata": {
     "auto_roll_back": true
    }
   },
   "outputs": [],
   "source": []
  },
  {
   "cell_type": "code",
   "execution_count": null,
   "metadata": {
    "coq_kernel_metadata": {
     "auto_roll_back": true,
     "cell_id": "8c75785da7e44639a92a902ec07c48af",
     "evaluated": false,
     "execution_id": "80b792635409409e9944ae989c139c7f",
     "rolled_back": false
    }
   },
   "outputs": [],
   "source": [
    "Qed."
   ]
  },
  {
   "cell_type": "markdown",
   "metadata": {
    "coq_kernel_metadata": {
     "auto_roll_back": true
    }
   },
   "source": [
    "## Implication un peu plus dur"
   ]
  },
  {
   "cell_type": "code",
   "execution_count": null,
   "metadata": {
    "coq_kernel_metadata": {
     "auto_roll_back": true,
     "cell_id": "c2b18c87fc644575bb69f39392f888d0",
     "evaluated": false,
     "execution_id": "cbfac502bf5c49ad8935781cfb0f16ac",
     "rolled_back": false
    }
   },
   "outputs": [],
   "source": [
    "Theorem S: forall (A B C : Prop), (A -> B -> C) -> (A -> B) -> A -> C.\n"
   ]
  },
  {
   "cell_type": "code",
   "execution_count": null,
   "metadata": {
    "coq_kernel_metadata": {
     "auto_roll_back": true,
     "cell_id": "6ca67b2a4d2746f3809ff66106b19941",
     "evaluated": true,
     "execution_id": "73557d97ebc04dd4b6eeb0d3709bd688",
     "rolled_back": false
    }
   },
   "outputs": [],
   "source": [
    "Proof."
   ]
  },
  {
   "cell_type": "code",
   "execution_count": null,
   "metadata": {
    "coq_kernel_metadata": {
     "auto_roll_back": true
    }
   },
   "outputs": [],
   "source": []
  },
  {
   "cell_type": "code",
   "execution_count": null,
   "metadata": {
    "coq_kernel_metadata": {
     "auto_roll_back": true,
     "cell_id": "be50dbcaf6464f189fdbb0e8d636dc87",
     "evaluated": false,
     "execution_id": "255a17b8dc3c4592bed3cbff1ddcc3da",
     "rolled_back": false
    }
   },
   "outputs": [],
   "source": [
    "Qed."
   ]
  },
  {
   "cell_type": "markdown",
   "metadata": {
    "coq_kernel_metadata": {
     "auto_roll_back": true
    }
   },
   "source": [
    "## Implication et conjonction"
   ]
  },
  {
   "cell_type": "code",
   "execution_count": null,
   "metadata": {
    "coq_kernel_metadata": {
     "auto_roll_back": true,
     "cell_id": "5561884f1db849d3a6357141103bfd7f",
     "evaluated": false,
     "execution_id": "f94f28615a5140679b5978d81aa32de8",
     "rolled_back": false
    }
   },
   "outputs": [],
   "source": [
    "Theorem Praeclarum: \n",
    "  forall (A B C D : Prop), (A -> B) /\\ (C -> D) -> A /\\ C -> B /\\ D."
   ]
  },
  {
   "cell_type": "code",
   "execution_count": null,
   "metadata": {
    "coq_kernel_metadata": {
     "auto_roll_back": true,
     "cell_id": "6a158da9063344ff939a78c9a95d6776",
     "evaluated": true,
     "execution_id": "862e22d0b4b443898c9c8fe8c263f111",
     "rolled_back": false
    }
   },
   "outputs": [],
   "source": [
    "Proof."
   ]
  },
  {
   "cell_type": "code",
   "execution_count": null,
   "metadata": {
    "coq_kernel_metadata": {
     "auto_roll_back": true
    }
   },
   "outputs": [],
   "source": []
  },
  {
   "cell_type": "code",
   "execution_count": null,
   "metadata": {
    "coq_kernel_metadata": {
     "auto_roll_back": true,
     "cell_id": "da0b412d6fc04ff9a5eb24feb0b34ec5",
     "evaluated": false,
     "execution_id": "e6da3001853a4e429827a2792a05ba16",
     "rolled_back": false
    }
   },
   "outputs": [],
   "source": [
    "Qed."
   ]
  },
  {
   "cell_type": "markdown",
   "metadata": {
    "coq_kernel_metadata": {
     "auto_roll_back": true
    }
   },
   "source": [
    "## Implication et quantification"
   ]
  },
  {
   "cell_type": "code",
   "execution_count": null,
   "metadata": {
    "coq_kernel_metadata": {
     "auto_roll_back": true
    }
   },
   "outputs": [],
   "source": [
    "Theorem resolution:\n",
    "  forall (p q : Type -> Prop) (a : Type),\n",
    "     (p a) -> (forall (x : Type), (p x) -> (q x)) -> (q a)."
   ]
  },
  {
   "cell_type": "code",
   "execution_count": null,
   "metadata": {
    "coq_kernel_metadata": {
     "auto_roll_back": true
    }
   },
   "outputs": [],
   "source": [
    "Proof."
   ]
  },
  {
   "cell_type": "code",
   "execution_count": null,
   "metadata": {
    "coq_kernel_metadata": {
     "auto_roll_back": true
    }
   },
   "outputs": [],
   "source": []
  },
  {
   "cell_type": "code",
   "execution_count": null,
   "metadata": {
    "coq_kernel_metadata": {
     "auto_roll_back": true
    }
   },
   "outputs": [],
   "source": [
    "Qed."
   ]
  },
  {
   "cell_type": "markdown",
   "metadata": {
    "coq_kernel_metadata": {
     "auto_roll_back": true
    }
   },
   "source": [
    "## Existentiel: décomposition (exists) utilisation (case)\n"
   ]
  },
  {
   "cell_type": "code",
   "execution_count": null,
   "metadata": {
    "coq_kernel_metadata": {
     "auto_roll_back": true
    }
   },
   "outputs": [],
   "source": [
    "Theorem Simple:\n",
    "  forall (A : Set) (R : A -> A -> Prop),\n",
    "  (forall (x y z : A), (R x y) /\\ (R y z) -> (R x z)) ->\n",
    "  (forall (x y : A), (R x y) -> (R y x)) ->\n",
    "  forall (x : A), (exists (y:A), (R x y)) -> (R x x)."
   ]
  },
  {
   "cell_type": "code",
   "execution_count": null,
   "metadata": {
    "coq_kernel_metadata": {
     "auto_roll_back": true
    }
   },
   "outputs": [],
   "source": [
    "Proof."
   ]
  },
  {
   "cell_type": "code",
   "execution_count": null,
   "metadata": {
    "coq_kernel_metadata": {
     "auto_roll_back": true
    }
   },
   "outputs": [],
   "source": []
  },
  {
   "cell_type": "code",
   "execution_count": null,
   "metadata": {
    "coq_kernel_metadata": {
     "auto_roll_back": true
    }
   },
   "outputs": [],
   "source": [
    "Qed."
   ]
  },
  {
   "cell_type": "markdown",
   "metadata": {
    "coq_kernel_metadata": {
     "auto_roll_back": true,
     "cell_id": "98343fd7569b4a8db6099d932a21d34d",
     "evaluated": false,
     "execution_id": "f4bd6aa40b624a05986f13af6e9f3af1",
     "rolled_back": false
    }
   },
   "source": [
    "## Négation: décomposition (intro) et utilisation (case) \n"
   ]
  },
  {
   "cell_type": "code",
   "execution_count": null,
   "metadata": {
    "coq_kernel_metadata": {
     "auto_roll_back": true
    }
   },
   "outputs": [],
   "source": [
    "Theorem not_not: forall (A : Prop), A -> ~ (~ A)."
   ]
  },
  {
   "cell_type": "code",
   "execution_count": null,
   "metadata": {
    "coq_kernel_metadata": {
     "auto_roll_back": true
    }
   },
   "outputs": [],
   "source": [
    "Proof."
   ]
  },
  {
   "cell_type": "code",
   "execution_count": null,
   "metadata": {
    "coq_kernel_metadata": {
     "auto_roll_back": true
    }
   },
   "outputs": [],
   "source": []
  },
  {
   "cell_type": "code",
   "execution_count": null,
   "metadata": {
    "coq_kernel_metadata": {
     "auto_roll_back": true
    }
   },
   "outputs": [],
   "source": [
    "Qed."
   ]
  },
  {
   "cell_type": "markdown",
   "metadata": {
    "coq_kernel_metadata": {
     "auto_roll_back": true
    }
   },
   "source": [
    "## Difficile !! "
   ]
  },
  {
   "cell_type": "code",
   "execution_count": null,
   "metadata": {
    "coq_kernel_metadata": {
     "auto_roll_back": true
    }
   },
   "outputs": [],
   "source": [
    "Theorem not_quite_classic: forall (A : Prop), ~ (~ (A \\/ ~ A))."
   ]
  },
  {
   "cell_type": "code",
   "execution_count": null,
   "metadata": {
    "coq_kernel_metadata": {
     "auto_roll_back": true
    }
   },
   "outputs": [],
   "source": [
    "Proof."
   ]
  },
  {
   "cell_type": "code",
   "execution_count": null,
   "metadata": {
    "coq_kernel_metadata": {
     "auto_roll_back": true
    }
   },
   "outputs": [],
   "source": []
  },
  {
   "cell_type": "code",
   "execution_count": null,
   "metadata": {
    "coq_kernel_metadata": {
     "auto_roll_back": true
    }
   },
   "outputs": [],
   "source": [
    "Qed."
   ]
  },
  {
   "cell_type": "markdown",
   "metadata": {
    "coq_kernel_metadata": {
     "auto_roll_back": true
    }
   },
   "source": [
    "##  Ajout du tiers exclu"
   ]
  },
  {
   "cell_type": "code",
   "execution_count": null,
   "metadata": {
    "coq_kernel_metadata": {
     "auto_roll_back": true
    }
   },
   "outputs": [],
   "source": [
    "Require Import Classical."
   ]
  },
  {
   "cell_type": "code",
   "execution_count": null,
   "metadata": {
    "coq_kernel_metadata": {
     "auto_roll_back": true
    }
   },
   "outputs": [],
   "source": [
    "Check classic."
   ]
  },
  {
   "cell_type": "code",
   "execution_count": null,
   "metadata": {
    "coq_kernel_metadata": {
     "auto_roll_back": true
    }
   },
   "outputs": [],
   "source": [
    "Theorem not_not_converse: forall (A : Prop), ~ (~ A) -> A."
   ]
  },
  {
   "cell_type": "code",
   "execution_count": null,
   "metadata": {
    "coq_kernel_metadata": {
     "auto_roll_back": true
    }
   },
   "outputs": [],
   "source": [
    "Proof."
   ]
  },
  {
   "cell_type": "code",
   "execution_count": null,
   "metadata": {
    "coq_kernel_metadata": {
     "auto_roll_back": true
    }
   },
   "outputs": [],
   "source": []
  },
  {
   "cell_type": "code",
   "execution_count": null,
   "metadata": {
    "coq_kernel_metadata": {
     "auto_roll_back": true
    }
   },
   "outputs": [],
   "source": [
    "Qed."
   ]
  }
 ],
 "metadata": {
  "kernelspec": {
   "display_name": "Coq",
   "language": "coq",
   "name": "coq"
  },
  "language_info": {
   "file_extension": ".v",
   "mimetype": "text/x-coq",
   "name": "coq",
   "version": "8.10.1"
  }
 },
 "nbformat": 4,
 "nbformat_minor": 4
}
